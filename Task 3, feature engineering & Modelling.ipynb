{
  "cells": [
    {
      "cell_type": "markdown",
      "metadata": {
        "id": "bDzMLzNV14Gm"
      },
      "source": [
        "# **Feature Engineering**\n",
        "\n",
        "---\n",
        "\n",
        "1. Import packages\n",
        "2. Load data\n",
        "3. Feature engineering\n",
        "\n",
        "---\n",
        "\n",
        "## **1. Import packages**"
      ]
    },
    {
      "cell_type": "code",
      "source": [
        "from google.colab import drive\n",
        "drive.mount('/content/drive')"
      ],
      "metadata": {
        "colab": {
          "base_uri": "https://localhost:8080/"
        },
        "id": "gqczBcUWLxX2",
        "outputId": "1c6ab108-295f-4e54-f68c-2bade8215da1"
      },
      "execution_count": 163,
      "outputs": [
        {
          "output_type": "stream",
          "name": "stdout",
          "text": [
            "Drive already mounted at /content/drive; to attempt to forcibly remount, call drive.mount(\"/content/drive\", force_remount=True).\n"
          ]
        }
      ]
    },
    {
      "cell_type": "code",
      "execution_count": 164,
      "metadata": {
        "id": "ayhYvqDI14Gr"
      },
      "outputs": [],
      "source": [
        "import pandas as pd\n",
        "import matplotlib.pyplot as plt\n",
        "import seaborn as sns"
      ]
    },
    {
      "cell_type": "markdown",
      "metadata": {
        "id": "odhfUEHX14Gs"
      },
      "source": [
        "---\n",
        "## **2. Load data**"
      ]
    },
    {
      "cell_type": "code",
      "execution_count": 188,
      "metadata": {
        "id": "_U4SrvfM14Gs"
      },
      "outputs": [],
      "source": [
        "client_df = pd.read_csv('/content/drive/MyDrive/client_data.csv')\n"
      ]
    },
    {
      "cell_type": "markdown",
      "source": [
        "## **3. Feature engineering**"
      ],
      "metadata": {
        "id": "aMmpDu72cSnx"
      }
    },
    {
      "cell_type": "markdown",
      "source": [
        "### **Changing field types into their appropriate type**\n"
      ],
      "metadata": {
        "id": "RJSjKIFvNJkY"
      }
    },
    {
      "cell_type": "code",
      "source": [
        "client_df.info()"
      ],
      "metadata": {
        "colab": {
          "base_uri": "https://localhost:8080/"
        },
        "id": "UlXIjMKvNVyu",
        "outputId": "b1c754cb-018e-4861-801f-0582136b5055"
      },
      "execution_count": 189,
      "outputs": [
        {
          "output_type": "stream",
          "name": "stdout",
          "text": [
            "<class 'pandas.core.frame.DataFrame'>\n",
            "RangeIndex: 14606 entries, 0 to 14605\n",
            "Data columns (total 26 columns):\n",
            " #   Column                          Non-Null Count  Dtype  \n",
            "---  ------                          --------------  -----  \n",
            " 0   id                              14606 non-null  object \n",
            " 1   channel_sales                   14606 non-null  object \n",
            " 2   cons_12m                        14606 non-null  int64  \n",
            " 3   cons_gas_12m                    14606 non-null  int64  \n",
            " 4   cons_last_month                 14606 non-null  int64  \n",
            " 5   date_activ                      14606 non-null  object \n",
            " 6   date_end                        14606 non-null  object \n",
            " 7   date_modif_prod                 14606 non-null  object \n",
            " 8   date_renewal                    14606 non-null  object \n",
            " 9   forecast_cons_12m               14606 non-null  float64\n",
            " 10  forecast_cons_year              14606 non-null  int64  \n",
            " 11  forecast_discount_energy        14606 non-null  float64\n",
            " 12  forecast_meter_rent_12m         14606 non-null  float64\n",
            " 13  forecast_price_energy_off_peak  14606 non-null  float64\n",
            " 14  forecast_price_energy_peak      14606 non-null  float64\n",
            " 15  forecast_price_pow_off_peak     14606 non-null  float64\n",
            " 16  has_gas                         14606 non-null  object \n",
            " 17  imp_cons                        14606 non-null  float64\n",
            " 18  margin_gross_pow_ele            14606 non-null  float64\n",
            " 19  margin_net_pow_ele              14606 non-null  float64\n",
            " 20  nb_prod_act                     14606 non-null  int64  \n",
            " 21  net_margin                      14606 non-null  float64\n",
            " 22  num_years_antig                 14606 non-null  int64  \n",
            " 23  origin_up                       14606 non-null  object \n",
            " 24  pow_max                         14606 non-null  float64\n",
            " 25  churn                           14606 non-null  int64  \n",
            "dtypes: float64(11), int64(7), object(8)\n",
            "memory usage: 2.9+ MB\n"
          ]
        }
      ]
    },
    {
      "cell_type": "markdown",
      "source": [
        "Change date columns('date_activ','date_end','date_modif_prod','date_renewal') from 'object' to 'datetime' type.\n",
        "\n",
        "Change categorical variables(channel_sales) from 'object' to 'category' type.\n",
        "\n"
      ],
      "metadata": {
        "id": "REC3LKlJNlPh"
      }
    },
    {
      "cell_type": "code",
      "source": [
        "client_df[\"date_activ\"] = pd.to_datetime(client_df[\"date_activ\"], format='%Y-%m-%d')\n",
        "client_df[\"date_end\"] = pd.to_datetime(client_df[\"date_end\"], format='%Y-%m-%d')\n",
        "client_df[\"date_modif_prod\"] = pd.to_datetime(client_df[\"date_modif_prod\"], format='%Y-%m-%d')\n",
        "client_df[\"date_renewal\"] = pd.to_datetime(client_df[\"date_renewal\"], format='%Y-%m-%d')\n",
        "\n",
        "#another way of changing the date columns to appropriate types \n",
        "# date_cols=['date_activ','date_end','date_modif_prod','date_renewal']\n",
        "# train = pd.read_csv('train_clean.csv',parse_dates=date_cols)"
      ],
      "metadata": {
        "id": "S4fcQH7VNIYX"
      },
      "execution_count": 190,
      "outputs": []
    },
    {
      "cell_type": "code",
      "execution_count": 191,
      "metadata": {
        "id": "EcuqYuBq14Gt"
      },
      "outputs": [],
      "source": [
        "client_df['channel_sales']=client_df['channel_sales'].astype('category')"
      ]
    },
    {
      "cell_type": "code",
      "source": [
        "#checking the types again\n",
        "client_df.info()"
      ],
      "metadata": {
        "colab": {
          "base_uri": "https://localhost:8080/"
        },
        "id": "OZNUJqILOmbq",
        "outputId": "be89f9ed-38ee-4940-9e0c-037751da3809"
      },
      "execution_count": 192,
      "outputs": [
        {
          "output_type": "stream",
          "name": "stdout",
          "text": [
            "<class 'pandas.core.frame.DataFrame'>\n",
            "RangeIndex: 14606 entries, 0 to 14605\n",
            "Data columns (total 26 columns):\n",
            " #   Column                          Non-Null Count  Dtype         \n",
            "---  ------                          --------------  -----         \n",
            " 0   id                              14606 non-null  object        \n",
            " 1   channel_sales                   14606 non-null  category      \n",
            " 2   cons_12m                        14606 non-null  int64         \n",
            " 3   cons_gas_12m                    14606 non-null  int64         \n",
            " 4   cons_last_month                 14606 non-null  int64         \n",
            " 5   date_activ                      14606 non-null  datetime64[ns]\n",
            " 6   date_end                        14606 non-null  datetime64[ns]\n",
            " 7   date_modif_prod                 14606 non-null  datetime64[ns]\n",
            " 8   date_renewal                    14606 non-null  datetime64[ns]\n",
            " 9   forecast_cons_12m               14606 non-null  float64       \n",
            " 10  forecast_cons_year              14606 non-null  int64         \n",
            " 11  forecast_discount_energy        14606 non-null  float64       \n",
            " 12  forecast_meter_rent_12m         14606 non-null  float64       \n",
            " 13  forecast_price_energy_off_peak  14606 non-null  float64       \n",
            " 14  forecast_price_energy_peak      14606 non-null  float64       \n",
            " 15  forecast_price_pow_off_peak     14606 non-null  float64       \n",
            " 16  has_gas                         14606 non-null  object        \n",
            " 17  imp_cons                        14606 non-null  float64       \n",
            " 18  margin_gross_pow_ele            14606 non-null  float64       \n",
            " 19  margin_net_pow_ele              14606 non-null  float64       \n",
            " 20  nb_prod_act                     14606 non-null  int64         \n",
            " 21  net_margin                      14606 non-null  float64       \n",
            " 22  num_years_antig                 14606 non-null  int64         \n",
            " 23  origin_up                       14606 non-null  object        \n",
            " 24  pow_max                         14606 non-null  float64       \n",
            " 25  churn                           14606 non-null  int64         \n",
            "dtypes: category(1), datetime64[ns](4), float64(11), int64(7), object(3)\n",
            "memory usage: 2.8+ MB\n"
          ]
        }
      ]
    },
    {
      "cell_type": "markdown",
      "source": [
        "### **Change boolean data(only two values) into binary 1 and 0**\n"
      ],
      "metadata": {
        "id": "SXJ19WTyWIF_"
      }
    },
    {
      "cell_type": "code",
      "source": [
        "client_df.has_gas=client_df.has_gas.replace([\"t\", \"f\"],[1,0])\n",
        "client_df.has_gas.value_counts()"
      ],
      "metadata": {
        "colab": {
          "base_uri": "https://localhost:8080/"
        },
        "id": "TZuKQXQKWYUQ",
        "outputId": "b4e646b9-0eba-4b1d-91bd-fbd6fb4df7a8"
      },
      "execution_count": 193,
      "outputs": [
        {
          "output_type": "execute_result",
          "data": {
            "text/plain": [
              "0    11955\n",
              "1     2651\n",
              "Name: has_gas, dtype: int64"
            ]
          },
          "metadata": {},
          "execution_count": 193
        }
      ]
    },
    {
      "cell_type": "markdown",
      "source": [
        "### **One-hot encode the category columns**\n",
        "One hot encoding can handle unknown variables(it didn't know during encoding) during testing and such by ignoring it unlike pandas get_dummies()\n"
      ],
      "metadata": {
        "id": "zEvqoJaPXBRV"
      }
    },
    {
      "cell_type": "code",
      "source": [
        "client_df['channel_sales'].value_counts()"
      ],
      "metadata": {
        "colab": {
          "base_uri": "https://localhost:8080/"
        },
        "id": "sBNeg8DrXkxv",
        "outputId": "181fc3ca-8531-49ec-8c4b-55fbb74e7c2a"
      },
      "execution_count": 194,
      "outputs": [
        {
          "output_type": "execute_result",
          "data": {
            "text/plain": [
              "foosdfpfkusacimwkcsosbicdxkicaua    6754\n",
              "MISSING                             3725\n",
              "lmkebamcaaclubfxadlmueccxoimlema    1843\n",
              "usilxuppasemubllopkaafesmlibmsdf    1375\n",
              "ewpakwlliwisiwduibdlfmalxowmwpci     893\n",
              "sddiedcslfslkckwlfkdpoeeailfpeds      11\n",
              "epumfxlbckeskwekxbiuasklxalciiuu       3\n",
              "fixdbufsefwooaasfcxdxadsiekoceaa       2\n",
              "Name: channel_sales, dtype: int64"
            ]
          },
          "metadata": {},
          "execution_count": 194
        }
      ]
    },
    {
      "cell_type": "code",
      "source": [
        "client_df['origin_up'].value_counts()"
      ],
      "metadata": {
        "colab": {
          "base_uri": "https://localhost:8080/"
        },
        "id": "sqNn1CX895hG",
        "outputId": "5112549f-1cd8-4fc9-d035-a8927f2eb633"
      },
      "execution_count": 195,
      "outputs": [
        {
          "output_type": "execute_result",
          "data": {
            "text/plain": [
              "lxidpiddsbxsbosboudacockeimpuepw    7097\n",
              "kamkkxfxxuwbdslkwifmmcsiusiuosws    4294\n",
              "ldkssxwpmemidmecebumciepifcamkci    3148\n",
              "MISSING                               64\n",
              "usapbepcfoloekilkwsdiboslwaxobdp       2\n",
              "ewxeelcelemmiwuafmddpobolfuxioce       1\n",
              "Name: origin_up, dtype: int64"
            ]
          },
          "metadata": {},
          "execution_count": 195
        }
      ]
    },
    {
      "cell_type": "code",
      "source": [
        "category_lists=list(client_df['channel_sales'].unique())"
      ],
      "metadata": {
        "id": "dk_3CGdpaiNu"
      },
      "execution_count": 196,
      "outputs": []
    },
    {
      "cell_type": "code",
      "source": [
        "from sklearn.preprocessing import OneHotEncoder\n",
        "def OneHotEncodeFeatures(df,col):\n",
        "  ohe = OneHotEncoder(sparse=False)\n",
        "  ohe.fit(df[[col]])\n",
        "  category_lists=list(df[col].unique())\n",
        "  category_names=[col[:7]+'_'+col_name[:4] for col_name in category_lists]\n",
        "  temp_df = pd.DataFrame(data=ohe.transform(df[[col]]), columns=category_names)\n",
        "  df.drop(columns=[col], axis=1, inplace=True)\n",
        "  df = pd.concat([df.reset_index(drop=True), temp_df], axis=1)\n",
        "  return df\n",
        "\n",
        "client_df = OneHotEncodeFeatures(client_df,'channel_sales')\n",
        "client_df = OneHotEncodeFeatures(client_df,'origin_up')"
      ],
      "metadata": {
        "id": "77sTeG_4Yg7Q"
      },
      "execution_count": 197,
      "outputs": []
    },
    {
      "cell_type": "code",
      "source": [
        "client_df.head()"
      ],
      "metadata": {
        "colab": {
          "base_uri": "https://localhost:8080/",
          "height": 386
        },
        "id": "tg6Ol2-qbV15",
        "outputId": "919c9f0c-40cb-4bbb-c898-508a4d3bba60"
      },
      "execution_count": 198,
      "outputs": [
        {
          "output_type": "execute_result",
          "data": {
            "text/plain": [
              "                                 id  cons_12m  cons_gas_12m  cons_last_month  \\\n",
              "0  24011ae4ebbe3035111d65fa7c15bc57         0         54946                0   \n",
              "1  d29c2c54acc38ff3c0614d0a653813dd      4660             0                0   \n",
              "2  764c75f661154dac3a6c254cd082ea7d       544             0                0   \n",
              "3  bba03439a292a1e166f80264c16191cb      1584             0                0   \n",
              "4  149d57cf92fc41cf94415803a877cb4b      4425             0              526   \n",
              "\n",
              "  date_activ   date_end date_modif_prod date_renewal  forecast_cons_12m  \\\n",
              "0 2013-06-15 2016-06-15      2015-11-01   2015-06-23               0.00   \n",
              "1 2009-08-21 2016-08-30      2009-08-21   2015-08-31             189.95   \n",
              "2 2010-04-16 2016-04-16      2010-04-16   2015-04-17              47.96   \n",
              "3 2010-03-30 2016-03-30      2010-03-30   2015-03-31             240.04   \n",
              "4 2010-01-13 2016-03-07      2010-01-13   2015-03-09             445.75   \n",
              "\n",
              "   forecast_cons_year  ...  channel_ewpa  channel_epum  channel_sddi  \\\n",
              "0                   0  ...           1.0           0.0           0.0   \n",
              "1                   0  ...           0.0           0.0           0.0   \n",
              "2                   0  ...           1.0           0.0           0.0   \n",
              "3                   0  ...           0.0           1.0           0.0   \n",
              "4                 526  ...           0.0           0.0           0.0   \n",
              "\n",
              "   channel_fixd  origin__lxid  origin__kamk  origin__ldks  origin__MISS  \\\n",
              "0           0.0           0.0           0.0           0.0           0.0   \n",
              "1           0.0           0.0           0.0           1.0           0.0   \n",
              "2           0.0           0.0           0.0           1.0           0.0   \n",
              "3           0.0           0.0           0.0           1.0           0.0   \n",
              "4           0.0           0.0           0.0           1.0           0.0   \n",
              "\n",
              "   origin__usap  origin__ewxe  \n",
              "0           1.0           0.0  \n",
              "1           0.0           0.0  \n",
              "2           0.0           0.0  \n",
              "3           0.0           0.0  \n",
              "4           0.0           0.0  \n",
              "\n",
              "[5 rows x 38 columns]"
            ],
            "text/html": [
              "\n",
              "  <div id=\"df-7246e56e-ce5a-419c-badc-bbc3745d8b8e\">\n",
              "    <div class=\"colab-df-container\">\n",
              "      <div>\n",
              "<style scoped>\n",
              "    .dataframe tbody tr th:only-of-type {\n",
              "        vertical-align: middle;\n",
              "    }\n",
              "\n",
              "    .dataframe tbody tr th {\n",
              "        vertical-align: top;\n",
              "    }\n",
              "\n",
              "    .dataframe thead th {\n",
              "        text-align: right;\n",
              "    }\n",
              "</style>\n",
              "<table border=\"1\" class=\"dataframe\">\n",
              "  <thead>\n",
              "    <tr style=\"text-align: right;\">\n",
              "      <th></th>\n",
              "      <th>id</th>\n",
              "      <th>cons_12m</th>\n",
              "      <th>cons_gas_12m</th>\n",
              "      <th>cons_last_month</th>\n",
              "      <th>date_activ</th>\n",
              "      <th>date_end</th>\n",
              "      <th>date_modif_prod</th>\n",
              "      <th>date_renewal</th>\n",
              "      <th>forecast_cons_12m</th>\n",
              "      <th>forecast_cons_year</th>\n",
              "      <th>...</th>\n",
              "      <th>channel_ewpa</th>\n",
              "      <th>channel_epum</th>\n",
              "      <th>channel_sddi</th>\n",
              "      <th>channel_fixd</th>\n",
              "      <th>origin__lxid</th>\n",
              "      <th>origin__kamk</th>\n",
              "      <th>origin__ldks</th>\n",
              "      <th>origin__MISS</th>\n",
              "      <th>origin__usap</th>\n",
              "      <th>origin__ewxe</th>\n",
              "    </tr>\n",
              "  </thead>\n",
              "  <tbody>\n",
              "    <tr>\n",
              "      <th>0</th>\n",
              "      <td>24011ae4ebbe3035111d65fa7c15bc57</td>\n",
              "      <td>0</td>\n",
              "      <td>54946</td>\n",
              "      <td>0</td>\n",
              "      <td>2013-06-15</td>\n",
              "      <td>2016-06-15</td>\n",
              "      <td>2015-11-01</td>\n",
              "      <td>2015-06-23</td>\n",
              "      <td>0.00</td>\n",
              "      <td>0</td>\n",
              "      <td>...</td>\n",
              "      <td>1.0</td>\n",
              "      <td>0.0</td>\n",
              "      <td>0.0</td>\n",
              "      <td>0.0</td>\n",
              "      <td>0.0</td>\n",
              "      <td>0.0</td>\n",
              "      <td>0.0</td>\n",
              "      <td>0.0</td>\n",
              "      <td>1.0</td>\n",
              "      <td>0.0</td>\n",
              "    </tr>\n",
              "    <tr>\n",
              "      <th>1</th>\n",
              "      <td>d29c2c54acc38ff3c0614d0a653813dd</td>\n",
              "      <td>4660</td>\n",
              "      <td>0</td>\n",
              "      <td>0</td>\n",
              "      <td>2009-08-21</td>\n",
              "      <td>2016-08-30</td>\n",
              "      <td>2009-08-21</td>\n",
              "      <td>2015-08-31</td>\n",
              "      <td>189.95</td>\n",
              "      <td>0</td>\n",
              "      <td>...</td>\n",
              "      <td>0.0</td>\n",
              "      <td>0.0</td>\n",
              "      <td>0.0</td>\n",
              "      <td>0.0</td>\n",
              "      <td>0.0</td>\n",
              "      <td>0.0</td>\n",
              "      <td>1.0</td>\n",
              "      <td>0.0</td>\n",
              "      <td>0.0</td>\n",
              "      <td>0.0</td>\n",
              "    </tr>\n",
              "    <tr>\n",
              "      <th>2</th>\n",
              "      <td>764c75f661154dac3a6c254cd082ea7d</td>\n",
              "      <td>544</td>\n",
              "      <td>0</td>\n",
              "      <td>0</td>\n",
              "      <td>2010-04-16</td>\n",
              "      <td>2016-04-16</td>\n",
              "      <td>2010-04-16</td>\n",
              "      <td>2015-04-17</td>\n",
              "      <td>47.96</td>\n",
              "      <td>0</td>\n",
              "      <td>...</td>\n",
              "      <td>1.0</td>\n",
              "      <td>0.0</td>\n",
              "      <td>0.0</td>\n",
              "      <td>0.0</td>\n",
              "      <td>0.0</td>\n",
              "      <td>0.0</td>\n",
              "      <td>1.0</td>\n",
              "      <td>0.0</td>\n",
              "      <td>0.0</td>\n",
              "      <td>0.0</td>\n",
              "    </tr>\n",
              "    <tr>\n",
              "      <th>3</th>\n",
              "      <td>bba03439a292a1e166f80264c16191cb</td>\n",
              "      <td>1584</td>\n",
              "      <td>0</td>\n",
              "      <td>0</td>\n",
              "      <td>2010-03-30</td>\n",
              "      <td>2016-03-30</td>\n",
              "      <td>2010-03-30</td>\n",
              "      <td>2015-03-31</td>\n",
              "      <td>240.04</td>\n",
              "      <td>0</td>\n",
              "      <td>...</td>\n",
              "      <td>0.0</td>\n",
              "      <td>1.0</td>\n",
              "      <td>0.0</td>\n",
              "      <td>0.0</td>\n",
              "      <td>0.0</td>\n",
              "      <td>0.0</td>\n",
              "      <td>1.0</td>\n",
              "      <td>0.0</td>\n",
              "      <td>0.0</td>\n",
              "      <td>0.0</td>\n",
              "    </tr>\n",
              "    <tr>\n",
              "      <th>4</th>\n",
              "      <td>149d57cf92fc41cf94415803a877cb4b</td>\n",
              "      <td>4425</td>\n",
              "      <td>0</td>\n",
              "      <td>526</td>\n",
              "      <td>2010-01-13</td>\n",
              "      <td>2016-03-07</td>\n",
              "      <td>2010-01-13</td>\n",
              "      <td>2015-03-09</td>\n",
              "      <td>445.75</td>\n",
              "      <td>526</td>\n",
              "      <td>...</td>\n",
              "      <td>0.0</td>\n",
              "      <td>0.0</td>\n",
              "      <td>0.0</td>\n",
              "      <td>0.0</td>\n",
              "      <td>0.0</td>\n",
              "      <td>0.0</td>\n",
              "      <td>1.0</td>\n",
              "      <td>0.0</td>\n",
              "      <td>0.0</td>\n",
              "      <td>0.0</td>\n",
              "    </tr>\n",
              "  </tbody>\n",
              "</table>\n",
              "<p>5 rows × 38 columns</p>\n",
              "</div>\n",
              "      <button class=\"colab-df-convert\" onclick=\"convertToInteractive('df-7246e56e-ce5a-419c-badc-bbc3745d8b8e')\"\n",
              "              title=\"Convert this dataframe to an interactive table.\"\n",
              "              style=\"display:none;\">\n",
              "        \n",
              "  <svg xmlns=\"http://www.w3.org/2000/svg\" height=\"24px\"viewBox=\"0 0 24 24\"\n",
              "       width=\"24px\">\n",
              "    <path d=\"M0 0h24v24H0V0z\" fill=\"none\"/>\n",
              "    <path d=\"M18.56 5.44l.94 2.06.94-2.06 2.06-.94-2.06-.94-.94-2.06-.94 2.06-2.06.94zm-11 1L8.5 8.5l.94-2.06 2.06-.94-2.06-.94L8.5 2.5l-.94 2.06-2.06.94zm10 10l.94 2.06.94-2.06 2.06-.94-2.06-.94-.94-2.06-.94 2.06-2.06.94z\"/><path d=\"M17.41 7.96l-1.37-1.37c-.4-.4-.92-.59-1.43-.59-.52 0-1.04.2-1.43.59L10.3 9.45l-7.72 7.72c-.78.78-.78 2.05 0 2.83L4 21.41c.39.39.9.59 1.41.59.51 0 1.02-.2 1.41-.59l7.78-7.78 2.81-2.81c.8-.78.8-2.07 0-2.86zM5.41 20L4 18.59l7.72-7.72 1.47 1.35L5.41 20z\"/>\n",
              "  </svg>\n",
              "      </button>\n",
              "      \n",
              "  <style>\n",
              "    .colab-df-container {\n",
              "      display:flex;\n",
              "      flex-wrap:wrap;\n",
              "      gap: 12px;\n",
              "    }\n",
              "\n",
              "    .colab-df-convert {\n",
              "      background-color: #E8F0FE;\n",
              "      border: none;\n",
              "      border-radius: 50%;\n",
              "      cursor: pointer;\n",
              "      display: none;\n",
              "      fill: #1967D2;\n",
              "      height: 32px;\n",
              "      padding: 0 0 0 0;\n",
              "      width: 32px;\n",
              "    }\n",
              "\n",
              "    .colab-df-convert:hover {\n",
              "      background-color: #E2EBFA;\n",
              "      box-shadow: 0px 1px 2px rgba(60, 64, 67, 0.3), 0px 1px 3px 1px rgba(60, 64, 67, 0.15);\n",
              "      fill: #174EA6;\n",
              "    }\n",
              "\n",
              "    [theme=dark] .colab-df-convert {\n",
              "      background-color: #3B4455;\n",
              "      fill: #D2E3FC;\n",
              "    }\n",
              "\n",
              "    [theme=dark] .colab-df-convert:hover {\n",
              "      background-color: #434B5C;\n",
              "      box-shadow: 0px 1px 3px 1px rgba(0, 0, 0, 0.15);\n",
              "      filter: drop-shadow(0px 1px 2px rgba(0, 0, 0, 0.3));\n",
              "      fill: #FFFFFF;\n",
              "    }\n",
              "  </style>\n",
              "\n",
              "      <script>\n",
              "        const buttonEl =\n",
              "          document.querySelector('#df-7246e56e-ce5a-419c-badc-bbc3745d8b8e button.colab-df-convert');\n",
              "        buttonEl.style.display =\n",
              "          google.colab.kernel.accessAllowed ? 'block' : 'none';\n",
              "\n",
              "        async function convertToInteractive(key) {\n",
              "          const element = document.querySelector('#df-7246e56e-ce5a-419c-badc-bbc3745d8b8e');\n",
              "          const dataTable =\n",
              "            await google.colab.kernel.invokeFunction('convertToInteractive',\n",
              "                                                     [key], {});\n",
              "          if (!dataTable) return;\n",
              "\n",
              "          const docLinkHtml = 'Like what you see? Visit the ' +\n",
              "            '<a target=\"_blank\" href=https://colab.research.google.com/notebooks/data_table.ipynb>data table notebook</a>'\n",
              "            + ' to learn more about interactive tables.';\n",
              "          element.innerHTML = '';\n",
              "          dataTable['output_type'] = 'display_data';\n",
              "          await google.colab.output.renderOutput(dataTable, element);\n",
              "          const docLink = document.createElement('div');\n",
              "          docLink.innerHTML = docLinkHtml;\n",
              "          element.appendChild(docLink);\n",
              "        }\n",
              "      </script>\n",
              "    </div>\n",
              "  </div>\n",
              "  "
            ]
          },
          "metadata": {},
          "execution_count": 198
        }
      ]
    },
    {
      "cell_type": "code",
      "execution_count": 199,
      "metadata": {
        "id": "TEXZLzIm14Gu",
        "colab": {
          "base_uri": "https://localhost:8080/"
        },
        "outputId": "b11e84b9-7af8-4fc6-b69a-125c48a664d6"
      },
      "outputs": [
        {
          "output_type": "execute_result",
          "data": {
            "text/plain": [
              "Index(['id', 'price_date', 'price_off_peak_var', 'price_peak_var',\n",
              "       'price_mid_peak_var', 'price_off_peak_fix', 'price_peak_fix',\n",
              "       'price_mid_peak_fix'],\n",
              "      dtype='object')"
            ]
          },
          "metadata": {},
          "execution_count": 199
        }
      ],
      "source": [
        "price_df = pd.read_csv('/content/drive/MyDrive/price_data.csv')\n",
        "price_df[\"price_date\"] = pd.to_datetime(price_df[\"price_date\"], format='%Y-%m-%d')\n",
        "price_df.columns"
      ]
    },
    {
      "cell_type": "markdown",
      "source": [
        "Since, the price data are skewed we will use the median for the below analysis."
      ],
      "metadata": {
        "id": "zH1keAsNdBbE"
      }
    },
    {
      "cell_type": "code",
      "source": [
        "median_year=price_df.groupby(['id']).median().reset_index()\n",
        "median_6m=price_df[price_df['price_date']>'2015-06-01'].groupby(['id']).median().reset_index()\n",
        "median_3m=price_df[price_df['price_date']>'2015-10-01'].groupby(['id']).median().reset_index()"
      ],
      "metadata": {
        "id": "9ZCxJVRfcoSf"
      },
      "execution_count": 200,
      "outputs": []
    },
    {
      "cell_type": "code",
      "source": [
        "#Combine the mean year in a single dataframe\n",
        "median_year=median_year.rename(index=str,columns={'price_off_peak_var':'median_year_price_ofp_var',\n",
        "                                              'price_peak_var':'median_year_price_p_var',\n",
        "                                              'price_mid_peak_var':'median_year_price_midp_var',\n",
        "                                              'price_off_peak_fix':'median_year_price_ofp_fix',\n",
        "                                              'price_peak_fix':'median_year_price_p_fix',\n",
        "                                              'price_mid_peak_fix':'median_year_price_midp_fix',})\n",
        "median_year['median_year_price_ofp']=median_year['median_year_price_ofp_var']+median_year['median_year_price_ofp_fix']\n",
        "median_year['median_year_price_p']=median_year['median_year_price_p_var']+median_year['median_year_price_p_fix']\n",
        "median_year['median_year_price_midp']=median_year['median_year_price_midp_var']+median_year['median_year_price_midp_fix']\n",
        "median_6m=median_6m.rename(index=str,columns={'price_off_peak_var':'median_6m_price_ofp_var',\n",
        "                                              'price_peak_var':'median_6m_price_p_var',\n",
        "                                              'price_mid_peak_var':'median_6m_price_midp_var',\n",
        "                                              'price_off_peak_fix':'median_6m_price_ofp_fix',\n",
        "                                              'price_peak_fix':'median_6m_price_p_fix',\n",
        "                                              'price_mid_peak_fix':'median_6m_price_midp_fix',})\n",
        "median_6m['median_6m_price_ofp']=median_6m['median_6m_price_ofp_var']+median_6m['median_6m_price_ofp_fix']\n",
        "median_6m['median_6m_price_p']=median_6m['median_6m_price_p_var']+median_6m['median_6m_price_p_fix']\n",
        "median_6m['median_6m_price_midp']=median_6m['median_6m_price_midp_var']+median_6m['median_6m_price_midp_fix']\n",
        "median_3m=median_3m.rename(index=str,columns={'price_off_peak_var':'median_3m_price_ofp_var',\n",
        "                                              'price_peak_var':'median_3m_price_p_var',\n",
        "                                              'price_mid_peak_var':'median_3m_price_midp_var',\n",
        "                                              'price_off_peak_fix':'median_3m_price_ofp_fix',\n",
        "                                              'price_peak_fix':'median_3m_price_p_fix',\n",
        "                                              'price_mid_peak_fix':'median_3m_price_midp_fix',})\n",
        "median_3m['median_3m_price_ofp']=median_3m['median_3m_price_ofp_var']+median_3m['median_3m_price_ofp_fix']\n",
        "median_3m['median_3m_price_p']=median_3m['median_3m_price_p_var']+median_3m['median_3m_price_p_fix']\n",
        "median_3m['median_3m_price_midp']=median_3m['median_3m_price_midp_var']+median_3m['median_3m_price_midp_fix']"
      ],
      "metadata": {
        "id": "dc3CfdxodXcZ"
      },
      "execution_count": 201,
      "outputs": []
    },
    {
      "cell_type": "code",
      "source": [
        "price_new_df=pd.merge(median_year,median_6m, on='id',how='left')\n",
        "price_new_df=pd.merge(price_new_df,median_3m, on='id',how='left')\n",
        "price_new_df.info()"
      ],
      "metadata": {
        "colab": {
          "base_uri": "https://localhost:8080/"
        },
        "id": "ofJ6M4ViigGo",
        "outputId": "2906b690-2fca-4a57-804a-cc4f845d6b15"
      },
      "execution_count": 202,
      "outputs": [
        {
          "output_type": "stream",
          "name": "stdout",
          "text": [
            "<class 'pandas.core.frame.DataFrame'>\n",
            "Int64Index: 16096 entries, 0 to 16095\n",
            "Data columns (total 28 columns):\n",
            " #   Column                      Non-Null Count  Dtype  \n",
            "---  ------                      --------------  -----  \n",
            " 0   id                          16096 non-null  object \n",
            " 1   median_year_price_ofp_var   16096 non-null  float64\n",
            " 2   median_year_price_p_var     16096 non-null  float64\n",
            " 3   median_year_price_midp_var  16096 non-null  float64\n",
            " 4   median_year_price_ofp_fix   16096 non-null  float64\n",
            " 5   median_year_price_p_fix     16096 non-null  float64\n",
            " 6   median_year_price_midp_fix  16096 non-null  float64\n",
            " 7   median_year_price_ofp       16096 non-null  float64\n",
            " 8   median_year_price_p         16096 non-null  float64\n",
            " 9   median_year_price_midp      16096 non-null  float64\n",
            " 10  median_6m_price_ofp_var     16096 non-null  float64\n",
            " 11  median_6m_price_p_var       16096 non-null  float64\n",
            " 12  median_6m_price_midp_var    16096 non-null  float64\n",
            " 13  median_6m_price_ofp_fix     16096 non-null  float64\n",
            " 14  median_6m_price_p_fix       16096 non-null  float64\n",
            " 15  median_6m_price_midp_fix    16096 non-null  float64\n",
            " 16  median_6m_price_ofp         16096 non-null  float64\n",
            " 17  median_6m_price_p           16096 non-null  float64\n",
            " 18  median_6m_price_midp        16096 non-null  float64\n",
            " 19  median_3m_price_ofp_var     16095 non-null  float64\n",
            " 20  median_3m_price_p_var       16095 non-null  float64\n",
            " 21  median_3m_price_midp_var    16095 non-null  float64\n",
            " 22  median_3m_price_ofp_fix     16095 non-null  float64\n",
            " 23  median_3m_price_p_fix       16095 non-null  float64\n",
            " 24  median_3m_price_midp_fix    16095 non-null  float64\n",
            " 25  median_3m_price_ofp         16095 non-null  float64\n",
            " 26  median_3m_price_p           16095 non-null  float64\n",
            " 27  median_3m_price_midp        16095 non-null  float64\n",
            "dtypes: float64(27), object(1)\n",
            "memory usage: 3.6+ MB\n"
          ]
        }
      ]
    },
    {
      "cell_type": "code",
      "source": [
        "cor_matrix=price_new_df.corr()"
      ],
      "metadata": {
        "id": "-4PDNkerjUgS"
      },
      "execution_count": 203,
      "outputs": []
    },
    {
      "cell_type": "code",
      "source": [
        "import numpy as np"
      ],
      "metadata": {
        "id": "W41my9v1mLuC"
      },
      "execution_count": 204,
      "outputs": []
    },
    {
      "cell_type": "code",
      "source": [
        "upper_tri = cor_matrix.where(np.triu(np.ones(cor_matrix.shape),k=1).astype(bool))\n",
        "\n",
        "to_drop = [column for column in upper_tri.columns if any(upper_tri[column] > 0.80)]\n",
        "print(len(to_drop))\n",
        "\n",
        "#Now we are droping the columns which are in the list 'to_drop' from the dataframe\n",
        "\n",
        "df1 = price_new_df.drop(to_drop, axis=1)"
      ],
      "metadata": {
        "colab": {
          "base_uri": "https://localhost:8080/"
        },
        "id": "-Gvn73MllLEk",
        "outputId": "daeb540b-7496-4e5d-d13e-563ecd9ff311"
      },
      "execution_count": 206,
      "outputs": [
        {
          "output_type": "stream",
          "name": "stdout",
          "text": [
            "24\n"
          ]
        }
      ]
    },
    {
      "cell_type": "code",
      "source": [
        "df1.columns"
      ],
      "metadata": {
        "colab": {
          "base_uri": "https://localhost:8080/"
        },
        "id": "YNuiIyZAlqDn",
        "outputId": "dce70a68-6da1-4f14-856a-ac273debb8a1"
      },
      "execution_count": 207,
      "outputs": [
        {
          "output_type": "execute_result",
          "data": {
            "text/plain": [
              "Index(['id', 'median_year_price_ofp_var', 'median_year_price_p_var',\n",
              "       'median_year_price_ofp_fix'],\n",
              "      dtype='object')"
            ]
          },
          "metadata": {},
          "execution_count": 207
        }
      ]
    },
    {
      "cell_type": "markdown",
      "source": [
        "The above correlation analysis shows that the only three uncorrelated variables here are **median_year_price_ofp_var, median_year_price_p_var, median_year_price_ofp_fix**. So, these are what we are going to use for analysis. \n",
        "\n",
        "Is this symmetric though? "
      ],
      "metadata": {
        "id": "KUjLKsQUnMO_"
      }
    },
    {
      "cell_type": "markdown",
      "metadata": {
        "id": "g-DjqaqY14Gt"
      },
      "source": [
        "\n",
        "### **Difference between off-peak prices in December and preceding January**\n",
        "\n",
        "Below is the code created by your colleague to calculate the feature described above. Use this code to re-create this feature and then think about ways to build on this feature to create features with a higher predictive power."
      ]
    },
    {
      "cell_type": "code",
      "execution_count": 208,
      "metadata": {
        "id": "RBRVCptk14Gu",
        "colab": {
          "base_uri": "https://localhost:8080/",
          "height": 206
        },
        "outputId": "b369ef57-25b5-430e-bdb3-8760f7160570"
      },
      "outputs": [
        {
          "output_type": "execute_result",
          "data": {
            "text/plain": [
              "                                 id  offpeak_diff_dec_january_energy  \\\n",
              "0  0002203ffbb812588b632b9e628cc38d                        -0.006192   \n",
              "1  0004351ebdd665e6ee664792efc4fd13                        -0.004104   \n",
              "2  0010bcc39e42b3c2131ed2ce55246e3c                         0.050443   \n",
              "3  0010ee3855fdea87602a5b7aba8e42de                        -0.010018   \n",
              "4  00114d74e963e47177db89bc70108537                        -0.003994   \n",
              "\n",
              "   offpeak_diff_dec_january_power  \n",
              "0                        0.162916  \n",
              "1                        0.177779  \n",
              "2                        1.500000  \n",
              "3                        0.162916  \n",
              "4                       -0.000001  "
            ],
            "text/html": [
              "\n",
              "  <div id=\"df-5ff10caf-749f-420e-bb9e-b2a54a314652\">\n",
              "    <div class=\"colab-df-container\">\n",
              "      <div>\n",
              "<style scoped>\n",
              "    .dataframe tbody tr th:only-of-type {\n",
              "        vertical-align: middle;\n",
              "    }\n",
              "\n",
              "    .dataframe tbody tr th {\n",
              "        vertical-align: top;\n",
              "    }\n",
              "\n",
              "    .dataframe thead th {\n",
              "        text-align: right;\n",
              "    }\n",
              "</style>\n",
              "<table border=\"1\" class=\"dataframe\">\n",
              "  <thead>\n",
              "    <tr style=\"text-align: right;\">\n",
              "      <th></th>\n",
              "      <th>id</th>\n",
              "      <th>offpeak_diff_dec_january_energy</th>\n",
              "      <th>offpeak_diff_dec_january_power</th>\n",
              "    </tr>\n",
              "  </thead>\n",
              "  <tbody>\n",
              "    <tr>\n",
              "      <th>0</th>\n",
              "      <td>0002203ffbb812588b632b9e628cc38d</td>\n",
              "      <td>-0.006192</td>\n",
              "      <td>0.162916</td>\n",
              "    </tr>\n",
              "    <tr>\n",
              "      <th>1</th>\n",
              "      <td>0004351ebdd665e6ee664792efc4fd13</td>\n",
              "      <td>-0.004104</td>\n",
              "      <td>0.177779</td>\n",
              "    </tr>\n",
              "    <tr>\n",
              "      <th>2</th>\n",
              "      <td>0010bcc39e42b3c2131ed2ce55246e3c</td>\n",
              "      <td>0.050443</td>\n",
              "      <td>1.500000</td>\n",
              "    </tr>\n",
              "    <tr>\n",
              "      <th>3</th>\n",
              "      <td>0010ee3855fdea87602a5b7aba8e42de</td>\n",
              "      <td>-0.010018</td>\n",
              "      <td>0.162916</td>\n",
              "    </tr>\n",
              "    <tr>\n",
              "      <th>4</th>\n",
              "      <td>00114d74e963e47177db89bc70108537</td>\n",
              "      <td>-0.003994</td>\n",
              "      <td>-0.000001</td>\n",
              "    </tr>\n",
              "  </tbody>\n",
              "</table>\n",
              "</div>\n",
              "      <button class=\"colab-df-convert\" onclick=\"convertToInteractive('df-5ff10caf-749f-420e-bb9e-b2a54a314652')\"\n",
              "              title=\"Convert this dataframe to an interactive table.\"\n",
              "              style=\"display:none;\">\n",
              "        \n",
              "  <svg xmlns=\"http://www.w3.org/2000/svg\" height=\"24px\"viewBox=\"0 0 24 24\"\n",
              "       width=\"24px\">\n",
              "    <path d=\"M0 0h24v24H0V0z\" fill=\"none\"/>\n",
              "    <path d=\"M18.56 5.44l.94 2.06.94-2.06 2.06-.94-2.06-.94-.94-2.06-.94 2.06-2.06.94zm-11 1L8.5 8.5l.94-2.06 2.06-.94-2.06-.94L8.5 2.5l-.94 2.06-2.06.94zm10 10l.94 2.06.94-2.06 2.06-.94-2.06-.94-.94-2.06-.94 2.06-2.06.94z\"/><path d=\"M17.41 7.96l-1.37-1.37c-.4-.4-.92-.59-1.43-.59-.52 0-1.04.2-1.43.59L10.3 9.45l-7.72 7.72c-.78.78-.78 2.05 0 2.83L4 21.41c.39.39.9.59 1.41.59.51 0 1.02-.2 1.41-.59l7.78-7.78 2.81-2.81c.8-.78.8-2.07 0-2.86zM5.41 20L4 18.59l7.72-7.72 1.47 1.35L5.41 20z\"/>\n",
              "  </svg>\n",
              "      </button>\n",
              "      \n",
              "  <style>\n",
              "    .colab-df-container {\n",
              "      display:flex;\n",
              "      flex-wrap:wrap;\n",
              "      gap: 12px;\n",
              "    }\n",
              "\n",
              "    .colab-df-convert {\n",
              "      background-color: #E8F0FE;\n",
              "      border: none;\n",
              "      border-radius: 50%;\n",
              "      cursor: pointer;\n",
              "      display: none;\n",
              "      fill: #1967D2;\n",
              "      height: 32px;\n",
              "      padding: 0 0 0 0;\n",
              "      width: 32px;\n",
              "    }\n",
              "\n",
              "    .colab-df-convert:hover {\n",
              "      background-color: #E2EBFA;\n",
              "      box-shadow: 0px 1px 2px rgba(60, 64, 67, 0.3), 0px 1px 3px 1px rgba(60, 64, 67, 0.15);\n",
              "      fill: #174EA6;\n",
              "    }\n",
              "\n",
              "    [theme=dark] .colab-df-convert {\n",
              "      background-color: #3B4455;\n",
              "      fill: #D2E3FC;\n",
              "    }\n",
              "\n",
              "    [theme=dark] .colab-df-convert:hover {\n",
              "      background-color: #434B5C;\n",
              "      box-shadow: 0px 1px 3px 1px rgba(0, 0, 0, 0.15);\n",
              "      filter: drop-shadow(0px 1px 2px rgba(0, 0, 0, 0.3));\n",
              "      fill: #FFFFFF;\n",
              "    }\n",
              "  </style>\n",
              "\n",
              "      <script>\n",
              "        const buttonEl =\n",
              "          document.querySelector('#df-5ff10caf-749f-420e-bb9e-b2a54a314652 button.colab-df-convert');\n",
              "        buttonEl.style.display =\n",
              "          google.colab.kernel.accessAllowed ? 'block' : 'none';\n",
              "\n",
              "        async function convertToInteractive(key) {\n",
              "          const element = document.querySelector('#df-5ff10caf-749f-420e-bb9e-b2a54a314652');\n",
              "          const dataTable =\n",
              "            await google.colab.kernel.invokeFunction('convertToInteractive',\n",
              "                                                     [key], {});\n",
              "          if (!dataTable) return;\n",
              "\n",
              "          const docLinkHtml = 'Like what you see? Visit the ' +\n",
              "            '<a target=\"_blank\" href=https://colab.research.google.com/notebooks/data_table.ipynb>data table notebook</a>'\n",
              "            + ' to learn more about interactive tables.';\n",
              "          element.innerHTML = '';\n",
              "          dataTable['output_type'] = 'display_data';\n",
              "          await google.colab.output.renderOutput(dataTable, element);\n",
              "          const docLink = document.createElement('div');\n",
              "          docLink.innerHTML = docLinkHtml;\n",
              "          element.appendChild(docLink);\n",
              "        }\n",
              "      </script>\n",
              "    </div>\n",
              "  </div>\n",
              "  "
            ]
          },
          "metadata": {},
          "execution_count": 208
        }
      ],
      "source": [
        "# Group off-peak prices by companies and month\n",
        "monthly_price_by_id = price_df.groupby(['id', 'price_date']).agg({'price_off_peak_var': 'mean', 'price_off_peak_fix': 'mean'}).reset_index()\n",
        "\n",
        "# Get january and december prices\n",
        "jan_prices = monthly_price_by_id.groupby('id').first().reset_index()\n",
        "dec_prices = monthly_price_by_id.groupby('id').last().reset_index()\n",
        "\n",
        "# Calculate the difference\n",
        "diff = pd.merge(dec_prices.rename(columns={'price_off_peak_var': 'dec_1', 'price_off_peak_fix': 'dec_2'}), jan_prices.drop(columns='price_date'), on='id')\n",
        "diff['offpeak_diff_dec_january_energy'] = diff['dec_1'] - diff['price_off_peak_var']\n",
        "diff['offpeak_diff_dec_january_power'] = diff['dec_2'] - diff['price_off_peak_fix']\n",
        "diff = diff[['id', 'offpeak_diff_dec_january_energy','offpeak_diff_dec_january_power']]\n",
        "diff.head()"
      ]
    },
    {
      "cell_type": "markdown",
      "source": [
        "So, the above features will be selected for modelling."
      ],
      "metadata": {
        "id": "bHkR68MFoV4k"
      }
    },
    {
      "cell_type": "markdown",
      "source": [
        "### **Check for highly correlated features in the client numeric data.**\n",
        "- In order to drop them."
      ],
      "metadata": {
        "id": "Hy8rEYB7o_TT"
      }
    },
    {
      "cell_type": "code",
      "source": [
        "client_df.columns"
      ],
      "metadata": {
        "colab": {
          "base_uri": "https://localhost:8080/"
        },
        "id": "pmkQthGQqmws",
        "outputId": "ee89422c-26a4-4a08-eca0-eda477fbbbb2"
      },
      "execution_count": 209,
      "outputs": [
        {
          "output_type": "execute_result",
          "data": {
            "text/plain": [
              "Index(['id', 'cons_12m', 'cons_gas_12m', 'cons_last_month', 'date_activ',\n",
              "       'date_end', 'date_modif_prod', 'date_renewal', 'forecast_cons_12m',\n",
              "       'forecast_cons_year', 'forecast_discount_energy',\n",
              "       'forecast_meter_rent_12m', 'forecast_price_energy_off_peak',\n",
              "       'forecast_price_energy_peak', 'forecast_price_pow_off_peak', 'has_gas',\n",
              "       'imp_cons', 'margin_gross_pow_ele', 'margin_net_pow_ele', 'nb_prod_act',\n",
              "       'net_margin', 'num_years_antig', 'pow_max', 'churn', 'channel_foos',\n",
              "       'channel_MISS', 'channel_lmke', 'channel_usil', 'channel_ewpa',\n",
              "       'channel_epum', 'channel_sddi', 'channel_fixd', 'origin__lxid',\n",
              "       'origin__kamk', 'origin__ldks', 'origin__MISS', 'origin__usap',\n",
              "       'origin__ewxe'],\n",
              "      dtype='object')"
            ]
          },
          "metadata": {},
          "execution_count": 209
        }
      ]
    },
    {
      "cell_type": "code",
      "source": [
        "no_corr_analysis=['has_gas','churn','id','channel_foos','channel_MISS', 'channel_lmke', 'channel_usil','channel_ewpa', 'channel_epum', 'channel_sddi', 'channel_fixd', 'origin__lxid',\n",
        "       'origin__kamk', 'origin__ldks', 'origin__MISS', 'origin__usap',\n",
        "       'origin__ewxe']\n",
        "plt.figure(figsize=(16, 6))\n",
        "client_df_for_corr_analysis=client_df.drop(columns=no_corr_analysis)\n",
        "cor_matrix2=client_df_for_corr_analysis.corr()\n",
        "heatmap = sns.heatmap(cor_matrix2, vmin=-1, vmax=1, annot=True, cmap='BrBG')\n",
        "heatmap.set_title('Correlation Heatmap', fontdict={'fontsize':12}, pad=12);"
      ],
      "metadata": {
        "colab": {
          "base_uri": "https://localhost:8080/",
          "height": 544
        },
        "id": "urdflFCLoDKX",
        "outputId": "400510c6-c0fe-4823-b442-d1fa0b323683"
      },
      "execution_count": 210,
      "outputs": [
        {
          "output_type": "display_data",
          "data": {
            "text/plain": [
              "<Figure size 1152x432 with 2 Axes>"
            ],
            "image/png": "[encoded data removed]"
          },
          "metadata": {
            "needs_background": "light"
          }
        }
      ]
    },
    {
      "cell_type": "code",
      "source": [
        "upper_tri2 = cor_matrix2.where(np.triu(np.ones(cor_matrix2.shape),k=1).astype(bool))\n",
        "\n",
        "to_drop = [column for column in upper_tri2.columns if any(upper_tri2[column] > 0.80)]\n",
        "print(to_drop)\n",
        "\n",
        "#Now we are droping the columns which are in the list 'to_drop' from the dataframe\n",
        "\n",
        "client_df = client_df.drop(to_drop, axis=1)\n",
        "client_df_for_corr_analysis = client_df_for_corr_analysis.drop(to_drop, axis=1)"
      ],
      "metadata": {
        "colab": {
          "base_uri": "https://localhost:8080/"
        },
        "id": "OGBuIu-4ryV9",
        "outputId": "17b49269-4039-4ee0-f3e6-75604d885053"
      },
      "execution_count": 211,
      "outputs": [
        {
          "output_type": "stream",
          "name": "stdout",
          "text": [
            "['cons_last_month', 'imp_cons', 'margin_net_pow_ele']\n"
          ]
        }
      ]
    },
    {
      "cell_type": "markdown",
      "source": [
        "'cons_last_month', 'imp_cons', 'margin_net_pow_ele' are highly(more than 80%) correlated to certain other features so we are removing them."
      ],
      "metadata": {
        "id": "95LBQ678sty6"
      }
    },
    {
      "cell_type": "markdown",
      "source": [
        "### **Removing Outliers**\n",
        "Since we discovered in the EDA that most of the numeric data are skewed, we will remove outliers using IQR."
      ],
      "metadata": {
        "id": "xlrL9iXhuNg8"
      }
    },
    {
      "cell_type": "code",
      "source": [
        "client_df_for_corr_analysis.skew()\n",
        "#highly skewed"
      ],
      "metadata": {
        "colab": {
          "base_uri": "https://localhost:8080/"
        },
        "id": "j9c_Wl4Uuenw",
        "outputId": "2446ab7a-a314-4322-91ac-45a104eb5911"
      },
      "execution_count": 213,
      "outputs": [
        {
          "output_type": "stream",
          "name": "stderr",
          "text": [
            "/usr/local/lib/python3.7/dist-packages/ipykernel_launcher.py:1: FutureWarning: Dropping of nuisance columns in DataFrame reductions (with 'numeric_only=None') is deprecated; in a future version this will raise TypeError.  Select only valid columns before calling the reduction.\n",
            "  \"\"\"Entry point for launching an IPython kernel.\n"
          ]
        },
        {
          "output_type": "execute_result",
          "data": {
            "text/plain": [
              "cons_12m                           5.997308\n",
              "cons_gas_12m                       9.597530\n",
              "forecast_cons_12m                  7.155853\n",
              "forecast_cons_year                16.587990\n",
              "forecast_discount_energy           5.155098\n",
              "forecast_meter_rent_12m            1.505148\n",
              "forecast_price_energy_off_peak    -0.119586\n",
              "forecast_price_energy_peak        -0.014331\n",
              "forecast_price_pow_off_peak       -4.998772\n",
              "margin_gross_pow_ele               4.472632\n",
              "nb_prod_act                        8.636878\n",
              "net_margin                        36.569515\n",
              "num_years_antig                    1.446214\n",
              "pow_max                            5.786785\n",
              "dtype: float64"
            ]
          },
          "metadata": {},
          "execution_count": 213
        }
      ]
    },
    {
      "cell_type": "code",
      "source": [
        "def remove_outliers_IQR(df,cols):\n",
        "  for col in cols:\n",
        "      df.loc[df[col]<0,col]=df[col].median()\n",
        "      q1=df[col].quantile(.25)\n",
        "      q3=df[col].quantile(.75)\n",
        "      iqr=q3-q1\n",
        "      upper_bound=q3+(iqr*1.5)\n",
        "      lower_bound=q1-(iqr*1.5)\n",
        "      df[col] = np.where(df[col] >= upper_bound,\n",
        "              upper_bound,\n",
        "              np.where(df[col] <= lower_bound,\n",
        "              lower_bound,\n",
        "              df[col]))"
      ],
      "metadata": {
        "id": "NewwHVjEu5ky"
      },
      "execution_count": 214,
      "outputs": []
    },
    {
      "cell_type": "code",
      "source": [
        "client_df_list=client_df_for_corr_analysis.select_dtypes(include=np.number).columns.tolist()\n",
        "client_df_list"
      ],
      "metadata": {
        "colab": {
          "base_uri": "https://localhost:8080/"
        },
        "id": "VNS-z28QwI2M",
        "outputId": "7bdca4a1-6b68-481e-9d39-3326b91859cc"
      },
      "execution_count": 215,
      "outputs": [
        {
          "output_type": "execute_result",
          "data": {
            "text/plain": [
              "['cons_12m',\n",
              " 'cons_gas_12m',\n",
              " 'forecast_cons_12m',\n",
              " 'forecast_cons_year',\n",
              " 'forecast_discount_energy',\n",
              " 'forecast_meter_rent_12m',\n",
              " 'forecast_price_energy_off_peak',\n",
              " 'forecast_price_energy_peak',\n",
              " 'forecast_price_pow_off_peak',\n",
              " 'margin_gross_pow_ele',\n",
              " 'nb_prod_act',\n",
              " 'net_margin',\n",
              " 'num_years_antig',\n",
              " 'pow_max']"
            ]
          },
          "metadata": {},
          "execution_count": 215
        }
      ]
    },
    {
      "cell_type": "code",
      "source": [
        "remove_outliers_IQR(client_df_for_corr_analysis,client_df_list)"
      ],
      "metadata": {
        "id": "NZzd2nRkvWyQ"
      },
      "execution_count": 216,
      "outputs": []
    },
    {
      "cell_type": "code",
      "source": [
        "#checking if the skewness has decreased\n",
        "client_df_for_corr_analysis.skew()"
      ],
      "metadata": {
        "colab": {
          "base_uri": "https://localhost:8080/"
        },
        "id": "GhBPQ7W_w1uW",
        "outputId": "45ba63e0-c2be-47c0-ea8b-b2dc47d3c574"
      },
      "execution_count": 217,
      "outputs": [
        {
          "output_type": "stream",
          "name": "stderr",
          "text": [
            "/usr/local/lib/python3.7/dist-packages/ipykernel_launcher.py:2: FutureWarning: Dropping of nuisance columns in DataFrame reductions (with 'numeric_only=None') is deprecated; in a future version this will raise TypeError.  Select only valid columns before calling the reduction.\n",
            "  \n"
          ]
        },
        {
          "output_type": "execute_result",
          "data": {
            "text/plain": [
              "cons_12m                          1.170118\n",
              "cons_gas_12m                      0.000000\n",
              "forecast_cons_12m                 1.108772\n",
              "forecast_cons_year                1.240244\n",
              "forecast_discount_energy          0.000000\n",
              "forecast_meter_rent_12m           0.953549\n",
              "forecast_price_energy_off_peak    0.090157\n",
              "forecast_price_energy_peak       -0.014331\n",
              "forecast_price_pow_off_peak      -0.104028\n",
              "margin_gross_pow_ele              0.554187\n",
              "nb_prod_act                       0.000000\n",
              "net_margin                        1.115920\n",
              "num_years_antig                   0.576127\n",
              "pow_max                           1.143216\n",
              "dtype: float64"
            ]
          },
          "metadata": {},
          "execution_count": 217
        }
      ]
    },
    {
      "cell_type": "code",
      "source": [
        "price_new_df_1=price_new_df[['median_year_price_ofp_var', 'median_year_price_p_var','median_year_price_ofp_fix']]"
      ],
      "metadata": {
        "id": "jQdufD3U0zKq"
      },
      "execution_count": 218,
      "outputs": []
    },
    {
      "cell_type": "code",
      "source": [
        "price_new_df_1.skew()"
      ],
      "metadata": {
        "colab": {
          "base_uri": "https://localhost:8080/"
        },
        "id": "qAzIqI8o1wK5",
        "outputId": "5a1c4084-cbe0-4ebe-f786-c62f34167074"
      },
      "execution_count": 219,
      "outputs": [
        {
          "output_type": "execute_result",
          "data": {
            "text/plain": [
              "median_year_price_ofp_var   -0.323908\n",
              "median_year_price_p_var     -0.122975\n",
              "median_year_price_ofp_fix   -2.782547\n",
              "dtype: float64"
            ]
          },
          "metadata": {},
          "execution_count": 219
        }
      ]
    },
    {
      "cell_type": "code",
      "source": [
        "remove_outliers_IQR(price_new_df,list(price_new_df_1.columns))"
      ],
      "metadata": {
        "id": "_9cV5yWVzK1F"
      },
      "execution_count": 220,
      "outputs": []
    },
    {
      "cell_type": "code",
      "source": [
        "price_new_df[['median_year_price_ofp_var', 'median_year_price_p_var','median_year_price_ofp_fix']].skew()"
      ],
      "metadata": {
        "colab": {
          "base_uri": "https://localhost:8080/"
        },
        "id": "Ee3VE8PP2d2v",
        "outputId": "fe5cc682-2562-4376-d0dd-c446805a825c"
      },
      "execution_count": 221,
      "outputs": [
        {
          "output_type": "execute_result",
          "data": {
            "text/plain": [
              "median_year_price_ofp_var    0.138167\n",
              "median_year_price_p_var     -0.122975\n",
              "median_year_price_ofp_fix    0.379020\n",
              "dtype: float64"
            ]
          },
          "metadata": {},
          "execution_count": 221
        }
      ]
    },
    {
      "cell_type": "markdown",
      "source": [
        "The above features seem to be of a normal distribution. So, we are going to leave them be."
      ],
      "metadata": {
        "id": "KVIwimwG2v2H"
      }
    },
    {
      "cell_type": "markdown",
      "source": [
        "### **Merging the features**"
      ],
      "metadata": {
        "id": "H-QieaeGuK5f"
      }
    },
    {
      "cell_type": "code",
      "source": [
        "final_df=pd.merge(client_df, price_new_df[['id','median_year_price_ofp_var', 'median_year_price_p_var','median_year_price_ofp_fix']], on='id', how='left')\n",
        "final_df=pd.merge(final_df,diff, on='id', how='left')\n"
      ],
      "metadata": {
        "id": "TcwMWUhNtElI"
      },
      "execution_count": 244,
      "outputs": []
    },
    {
      "cell_type": "code",
      "source": [
        "final_df.columns"
      ],
      "metadata": {
        "id": "-xmbMnszQuiu",
        "outputId": "c39d88c4-4689-4205-f579-1520e989785c",
        "colab": {
          "base_uri": "https://localhost:8080/"
        }
      },
      "execution_count": 245,
      "outputs": [
        {
          "output_type": "execute_result",
          "data": {
            "text/plain": [
              "Index(['id', 'cons_12m', 'cons_gas_12m', 'date_activ', 'date_end',\n",
              "       'date_modif_prod', 'date_renewal', 'forecast_cons_12m',\n",
              "       'forecast_cons_year', 'forecast_discount_energy',\n",
              "       'forecast_meter_rent_12m', 'forecast_price_energy_off_peak',\n",
              "       'forecast_price_energy_peak', 'forecast_price_pow_off_peak', 'has_gas',\n",
              "       'margin_gross_pow_ele', 'nb_prod_act', 'net_margin', 'num_years_antig',\n",
              "       'pow_max', 'churn', 'channel_foos', 'channel_MISS', 'channel_lmke',\n",
              "       'channel_usil', 'channel_ewpa', 'channel_epum', 'channel_sddi',\n",
              "       'channel_fixd', 'origin__lxid', 'origin__kamk', 'origin__ldks',\n",
              "       'origin__MISS', 'origin__usap', 'origin__ewxe',\n",
              "       'median_year_price_ofp_var', 'median_year_price_p_var',\n",
              "       'median_year_price_ofp_fix', 'offpeak_diff_dec_january_energy',\n",
              "       'offpeak_diff_dec_january_power'],\n",
              "      dtype='object')"
            ]
          },
          "metadata": {},
          "execution_count": 245
        }
      ]
    },
    {
      "cell_type": "code",
      "source": [
        "final_df.drop(columns=['date_activ', 'date_end','date_modif_prod', 'date_renewal','id'], inplace=True)"
      ],
      "metadata": {
        "id": "eP4TRqeMB4ZZ"
      },
      "execution_count": 246,
      "outputs": []
    },
    {
      "cell_type": "code",
      "source": [
        "final_df = final_df.astype({'channel_foos':'int', 'channel_MISS':'int', 'channel_lmke':'int',\n",
        "       'channel_usil':'int', 'channel_ewpa':'int', 'channel_epum':'int', 'channel_sddi':'int',\n",
        "       'channel_fixd':'int', 'origin__lxid':'int', 'origin__kamk':'int', 'origin__ldks':'int',\n",
        "       'origin__MISS':'int', 'origin__usap':'int', 'origin__ewxe':'int'}) "
      ],
      "metadata": {
        "id": "HQSICRG_SAgr"
      },
      "execution_count": 247,
      "outputs": []
    },
    {
      "cell_type": "code",
      "source": [
        "final_df.info()"
      ],
      "metadata": {
        "id": "PiqHzS4uSyCN",
        "outputId": "33b4e26c-ef7e-4cd0-bfec-26d2616964fc",
        "colab": {
          "base_uri": "https://localhost:8080/"
        }
      },
      "execution_count": 248,
      "outputs": [
        {
          "output_type": "stream",
          "name": "stdout",
          "text": [
            "<class 'pandas.core.frame.DataFrame'>\n",
            "Int64Index: 14606 entries, 0 to 14605\n",
            "Data columns (total 35 columns):\n",
            " #   Column                           Non-Null Count  Dtype  \n",
            "---  ------                           --------------  -----  \n",
            " 0   cons_12m                         14606 non-null  int64  \n",
            " 1   cons_gas_12m                     14606 non-null  int64  \n",
            " 2   forecast_cons_12m                14606 non-null  float64\n",
            " 3   forecast_cons_year               14606 non-null  int64  \n",
            " 4   forecast_discount_energy         14606 non-null  float64\n",
            " 5   forecast_meter_rent_12m          14606 non-null  float64\n",
            " 6   forecast_price_energy_off_peak   14606 non-null  float64\n",
            " 7   forecast_price_energy_peak       14606 non-null  float64\n",
            " 8   forecast_price_pow_off_peak      14606 non-null  float64\n",
            " 9   has_gas                          14606 non-null  int64  \n",
            " 10  margin_gross_pow_ele             14606 non-null  float64\n",
            " 11  nb_prod_act                      14606 non-null  int64  \n",
            " 12  net_margin                       14606 non-null  float64\n",
            " 13  num_years_antig                  14606 non-null  int64  \n",
            " 14  pow_max                          14606 non-null  float64\n",
            " 15  churn                            14606 non-null  int64  \n",
            " 16  channel_foos                     14606 non-null  int64  \n",
            " 17  channel_MISS                     14606 non-null  int64  \n",
            " 18  channel_lmke                     14606 non-null  int64  \n",
            " 19  channel_usil                     14606 non-null  int64  \n",
            " 20  channel_ewpa                     14606 non-null  int64  \n",
            " 21  channel_epum                     14606 non-null  int64  \n",
            " 22  channel_sddi                     14606 non-null  int64  \n",
            " 23  channel_fixd                     14606 non-null  int64  \n",
            " 24  origin__lxid                     14606 non-null  int64  \n",
            " 25  origin__kamk                     14606 non-null  int64  \n",
            " 26  origin__ldks                     14606 non-null  int64  \n",
            " 27  origin__MISS                     14606 non-null  int64  \n",
            " 28  origin__usap                     14606 non-null  int64  \n",
            " 29  origin__ewxe                     14606 non-null  int64  \n",
            " 30  median_year_price_ofp_var        14606 non-null  float64\n",
            " 31  median_year_price_p_var          14606 non-null  float64\n",
            " 32  median_year_price_ofp_fix        14606 non-null  float64\n",
            " 33  offpeak_diff_dec_january_energy  14606 non-null  float64\n",
            " 34  offpeak_diff_dec_january_power   14606 non-null  float64\n",
            "dtypes: float64(14), int64(21)\n",
            "memory usage: 4.0 MB\n"
          ]
        }
      ]
    },
    {
      "cell_type": "code",
      "source": [
        "Y=final_df['churn']\n",
        "X=final_df.drop('churn', axis=1)"
      ],
      "metadata": {
        "id": "dI-TO_zpM8eV"
      },
      "execution_count": 249,
      "outputs": []
    },
    {
      "cell_type": "code",
      "source": [
        "#Check the binary target\n",
        "Y.value_counts()"
      ],
      "metadata": {
        "id": "zUj8Djl3NOmg",
        "outputId": "af086ad3-9bdd-4e98-90f2-6f336079acfd",
        "colab": {
          "base_uri": "https://localhost:8080/"
        }
      },
      "execution_count": 250,
      "outputs": [
        {
          "output_type": "execute_result",
          "data": {
            "text/plain": [
              "0    13187\n",
              "1     1419\n",
              "Name: churn, dtype: int64"
            ]
          },
          "metadata": {},
          "execution_count": 250
        }
      ]
    },
    {
      "cell_type": "code",
      "source": [
        "#Spliting dataset \n",
        "from sklearn.model_selection import train_test_split\n",
        "X_train,X_test,y_train,y_test=train_test_split(X,Y,test_size=0.2,random_state=10)"
      ],
      "metadata": {
        "id": "9MQSFsqdNUqR"
      },
      "execution_count": 251,
      "outputs": []
    },
    {
      "cell_type": "code",
      "source": [
        "from inspect import modulesbyfile\n",
        "from sklearn.metrics import classification_report\n",
        "from sklearn import model_selection\n",
        "from sklearn.ensemble import RandomForestClassifier \n",
        "scoring = ['accuracy', 'precision_weighted', 'recall_weighted', 'f1_weighted', 'roc_auc']\n",
        "model=RandomForestClassifier()\n",
        "kfold = model_selection.KFold(n_splits=5, shuffle=True, random_state=90210)\n",
        "cv_results = model_selection.cross_validate(model, X_train, y_train, cv=kfold, scoring=scoring)\n",
        "clf = model.fit(X_train, y_train)\n",
        "y_pred = clf.predict(X_test)\n",
        "print(classification_report(y_test, y_pred))\n",
        "# results.append(cv_results)\n",
        "# names.append(name)"
      ],
      "metadata": {
        "id": "QPRxpn7RNrKY",
        "outputId": "2d964667-3b10-43b1-9470-65608f1c4dba",
        "colab": {
          "base_uri": "https://localhost:8080/"
        }
      },
      "execution_count": 252,
      "outputs": [
        {
          "output_type": "stream",
          "name": "stdout",
          "text": [
            "              precision    recall  f1-score   support\n",
            "\n",
            "           0       0.91      1.00      0.95      2645\n",
            "           1       0.79      0.05      0.10       277\n",
            "\n",
            "    accuracy                           0.91      2922\n",
            "   macro avg       0.85      0.53      0.53      2922\n",
            "weighted avg       0.90      0.91      0.87      2922\n",
            "\n"
          ]
        }
      ]
    }
  ],
  "metadata": {
    "interpreter": {
      "hash": "152bf6e7dc8ee53edb5af21dc1a8faeab7f134840808a94079ed98d91ece7e0c"
    },
    "kernelspec": {
      "display_name": "Python 3",
      "language": "python",
      "name": "python3"
    },
    "language_info": {
      "codemirror_mode": {
        "name": "ipython",
        "version": 3
      },
      "file_extension": ".py",
      "mimetype": "text/x-python",
      "name": "python",
      "nbconvert_exporter": "python",
      "pygments_lexer": "ipython3",
      "version": "3.7.9"
    },
    "colab": {
      "provenance": []
    }
  },
  "nbformat": 4,
  "nbformat_minor": 0
}